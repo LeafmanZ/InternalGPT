{
 "cells": [
  {
   "cell_type": "code",
   "execution_count": 1,
   "metadata": {},
   "outputs": [],
   "source": [
    "mytext = \"\"\"With `s5cmd`, there are several functions and options available. Some of them include:\\n\\n1. **Upload Files:** Use the `cp` command \"\"\""
   ]
  },
  {
   "cell_type": "code",
   "execution_count": 2,
   "metadata": {},
   "outputs": [],
   "source": [
    "modified_string = \"\""
   ]
  },
  {
   "cell_type": "code",
   "execution_count": 3,
   "metadata": {},
   "outputs": [],
   "source": [
    "single_quote_parts = mytext.split(\"`\")"
   ]
  },
  {
   "cell_type": "code",
   "execution_count": 4,
   "metadata": {},
   "outputs": [
    {
     "name": "stdout",
     "output_type": "stream",
     "text": [
      "single_quote_parts: With  0\n",
      "single_quote_parts: s5cmd 1\n",
      "single_quote_parts: , there are several functions and options available. Some of them include:\n",
      "\n",
      "1. **Upload Files:** Use the  2\n",
      "single_quote_parts: cp 3\n",
      "single_quote_parts:  command  4\n"
     ]
    }
   ],
   "source": [
    "for k in range(len(single_quote_parts)):\n",
    "    print(f'single_quote_parts: {single_quote_parts[k]} {k}')\n",
    "    if k % 2 == 0:\n",
    "        double_star_parts = single_quote_parts[k].split(\"**\")\n",
    "        for j in range(len(double_star_parts)):\n",
    "            if j % 2 == 0:\n",
    "                modified_string += double_star_parts[j].replace('\\n', '<br>')\n",
    "            else:\n",
    "                # Text between single quotes\n",
    "                modified_string += f'<strong>{double_star_parts[j]}</strong>'\n",
    "    else:\n",
    "        # Text between single quotes\n",
    "        modified_string += f'<strong>{single_quote_parts[k]}</strong>'\n",
    "        "
   ]
  },
  {
   "cell_type": "code",
   "execution_count": 5,
   "metadata": {},
   "outputs": [
    {
     "data": {
      "text/plain": [
       "['With ',\n",
       " 's5cmd',\n",
       " ', there are several functions and options available. Some of them include:\\n\\n1. **Upload Files:** Use the ',\n",
       " 'cp',\n",
       " ' command ']"
      ]
     },
     "execution_count": 5,
     "metadata": {},
     "output_type": "execute_result"
    }
   ],
   "source": [
    "single_quote_parts"
   ]
  },
  {
   "cell_type": "code",
   "execution_count": 6,
   "metadata": {},
   "outputs": [
    {
     "data": {
      "text/plain": [
       "[' command ']"
      ]
     },
     "execution_count": 6,
     "metadata": {},
     "output_type": "execute_result"
    }
   ],
   "source": [
    "double_star_parts"
   ]
  },
  {
   "cell_type": "code",
   "execution_count": 7,
   "metadata": {},
   "outputs": [
    {
     "data": {
      "text/plain": [
       "'With <strong>s5cmd</strong>, there are several functions and options available. Some of them include:<br><br>1. <strong>Upload Files:</strong> Use the <strong>cp</strong> command '"
      ]
     },
     "execution_count": 7,
     "metadata": {},
     "output_type": "execute_result"
    }
   ],
   "source": [
    "modified_string"
   ]
  }
 ],
 "metadata": {
  "kernelspec": {
   "display_name": "lgpt03",
   "language": "python",
   "name": "python3"
  },
  "language_info": {
   "codemirror_mode": {
    "name": "ipython",
    "version": 3
   },
   "file_extension": ".py",
   "mimetype": "text/x-python",
   "name": "python",
   "nbconvert_exporter": "python",
   "pygments_lexer": "ipython3",
   "version": "3.11.5"
  }
 },
 "nbformat": 4,
 "nbformat_minor": 2
}
