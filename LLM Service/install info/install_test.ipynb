{
 "cells": [
  {
   "cell_type": "code",
   "execution_count": 1,
   "metadata": {},
   "outputs": [
    {
     "name": "stdout",
     "output_type": "stream",
     "text": [
      "2.1.2+cu118\n",
      "tensor([1.])\n",
      "tensor([1.], device='cuda:0')\n",
      "11.8\n",
      "CUDA is available on this system.\n",
      "Number of GPUs available: 1\n",
      "GPU 0: NVIDIA GeForce RTX 3090 Ti\n"
     ]
    }
   ],
   "source": [
    "import torch\n",
    "print(torch.__version__)\n",
    "print(torch.Tensor([1.0]))\n",
    "print(torch.Tensor([1.0]).cuda())\n",
    "print(torch.version.cuda)\n",
    "cuda_available = torch.cuda.is_available()\n",
    "if cuda_available:\n",
    "    print(\"CUDA is available on this system.\")\n",
    "    num_gpus = torch.cuda.device_count()\n",
    "    print(f\"Number of GPUs available: {num_gpus}\")\n",
    "    for i in range(num_gpus):\n",
    "        gpu_name = torch.cuda.get_device_name(i)\n",
    "        print(f\"GPU {i}: {gpu_name}\")\n",
    "else:\n",
    "    print(\"CUDA is not available on this system.\")"
   ]
  },
  {
   "cell_type": "code",
   "execution_count": 2,
   "metadata": {},
   "outputs": [
    {
     "name": "stdout",
     "output_type": "stream",
     "text": [
      "8700\n",
      "Running verify PaddlePaddle program ... \n",
      "PaddlePaddle works well on 1 GPU.\n",
      "PaddlePaddle is installed successfully! Let's start deep learning with PaddlePaddle now.\n"
     ]
    },
    {
     "name": "stderr",
     "output_type": "stream",
     "text": [
      "I1231 16:51:56.121130 13129 program_interpreter.cc:212] New Executor is Running.\n",
      "W1231 16:51:56.121271 13129 gpu_resources.cc:119] Please NOTE: device: 0, GPU Compute Capability: 8.6, Driver API Version: 12.3, Runtime API Version: 11.8\n",
      "W1231 16:51:56.121276 13129 gpu_resources.cc:164] device: 0, cuDNN Version: 8.7.\n",
      "I1231 16:51:56.178589 13129 interpreter_util.cc:624] Standalone Executor is Used.\n"
     ]
    }
   ],
   "source": [
    "import paddle\n",
    "print(paddle.get_cudnn_version())\n",
    "paddle.utils.run_check()"
   ]
  },
  {
   "cell_type": "code",
   "execution_count": 3,
   "metadata": {},
   "outputs": [],
   "source": [
    "from paddleocr import PaddleOCR,draw_ocr"
   ]
  },
  {
   "cell_type": "code",
   "execution_count": 4,
   "metadata": {},
   "outputs": [
    {
     "name": "stdout",
     "output_type": "stream",
     "text": [
      "[2023/12/31 16:51:56] ppocr DEBUG: Namespace(help='==SUPPRESS==', use_gpu=True, use_xpu=False, use_npu=False, ir_optim=True, use_tensorrt=False, min_subgraph_size=15, precision='fp32', gpu_mem=500, gpu_id=0, image_dir=None, page_num=0, det_algorithm='DB', det_model_dir='/home/leafmanz/.paddleocr/whl/det/en/en_PP-OCRv3_det_infer', det_limit_side_len=960, det_limit_type='max', det_box_type='quad', det_db_thresh=0.3, det_db_box_thresh=0.6, det_db_unclip_ratio=1.5, max_batch_size=10, use_dilation=False, det_db_score_mode='fast', det_east_score_thresh=0.8, det_east_cover_thresh=0.1, det_east_nms_thresh=0.2, det_sast_score_thresh=0.5, det_sast_nms_thresh=0.2, det_pse_thresh=0, det_pse_box_thresh=0.85, det_pse_min_area=16, det_pse_scale=1, scales=[8, 16, 32], alpha=1.0, beta=1.0, fourier_degree=5, rec_algorithm='SVTR_LCNet', rec_model_dir='/home/leafmanz/.paddleocr/whl/rec/en/en_PP-OCRv4_rec_infer', rec_image_inverse=True, rec_image_shape='3, 48, 320', rec_batch_num=6, max_text_length=25, rec_char_dict_path='/home/leafmanz/anaconda3/envs/cu118/lib/python3.10/site-packages/paddleocr/ppocr/utils/en_dict.txt', use_space_char=True, vis_font_path='./doc/fonts/simfang.ttf', drop_score=0.5, e2e_algorithm='PGNet', e2e_model_dir=None, e2e_limit_side_len=768, e2e_limit_type='max', e2e_pgnet_score_thresh=0.5, e2e_char_dict_path='./ppocr/utils/ic15_dict.txt', e2e_pgnet_valid_set='totaltext', e2e_pgnet_mode='fast', use_angle_cls=False, cls_model_dir='/home/leafmanz/.paddleocr/whl/cls/ch_ppocr_mobile_v2.0_cls_infer', cls_image_shape='3, 48, 192', label_list=['0', '180'], cls_batch_num=6, cls_thresh=0.9, enable_mkldnn=False, cpu_threads=10, use_pdserving=False, warmup=False, sr_model_dir=None, sr_image_shape='3, 32, 128', sr_batch_num=1, draw_img_save_dir='./inference_results', save_crop_res=False, crop_res_save_dir='./output', use_mp=False, total_process_num=1, process_id=0, benchmark=False, save_log_path='./log_output/', show_log=True, use_onnx=False, output='./output', table_max_len=488, table_algorithm='TableAttn', table_model_dir=None, merge_no_span_structure=True, table_char_dict_path=None, layout_model_dir=None, layout_dict_path=None, layout_score_threshold=0.5, layout_nms_threshold=0.5, kie_algorithm='LayoutXLM', ser_model_dir=None, re_model_dir=None, use_visual_backbone=True, ser_dict_path='../train_data/XFUND/class_list_xfun.txt', ocr_order_method=None, mode='structure', image_orientation=False, layout=True, table=True, ocr=True, recovery=False, use_pdf2docx_api=False, invert=False, binarize=False, alphacolor=(255, 255, 255), lang='en', det=True, rec=True, type='ocr', ocr_version='PP-OCRv4', structure_version='PP-StructureV2')\n",
      "[2023/12/31 16:51:58] ppocr DEBUG: dt_boxes num : 26, elapsed : 0.3034374713897705\n",
      "[2023/12/31 16:51:58] ppocr DEBUG: rec_res num  : 26, elapsed : 0.13626694679260254\n",
      "[[[33.0, 20.0], [155.0, 20.0], [155.0, 37.0], [33.0, 37.0]], ('2.1 Use by code', 0.9619615077972412)]\n",
      "[[[35.0, 76.0], [787.0, 76.0], [787.0, 90.0], [35.0, 90.0]], ('The paddleocr whl package will automatically download the ppocr lightweight model as the default model, which', 0.9926537275314331)]\n",
      "[[[34.0, 102.0], [525.0, 102.0], [525.0, 115.0], [34.0, 115.0]], ('can be customized and replaced according to the section 3 Custom Model.', 0.989413857460022)]\n",
      "[[[48.0, 142.0], [366.0, 142.0], [366.0, 156.0], [48.0, 156.0]], ('detection angle classification and recognition', 0.9860294461250305)]\n",
      "[[[51.0, 212.0], [376.0, 212.0], [376.0, 225.0], [51.0, 225.0]], ('from paddleocr import PaddleOcR,draw_ocr', 0.980068564414978)]\n",
      "[[[49.0, 233.0], [660.0, 233.0], [660.0, 247.0], [49.0, 247.0]], ('# Paddleocr supports Chinese, English, French, German, Korean and Japanese..', 0.9795652627944946)]\n",
      "[[[48.0, 251.0], [757.0, 251.0], [757.0, 268.0], [48.0, 268.0]], (\"# You can set the parameter 'lang' as 'ch',`en`,'french',`german',`korean','japan`.\", 0.8763948082923889)]\n",
      "[[[48.0, 272.0], [378.0, 272.0], [378.0, 289.0], [48.0, 289.0]], ('# to switch the language model in order.', 0.9858760833740234)]\n",
      "[[[52.0, 294.0], [813.0, 294.0], [813.0, 308.0], [52.0, 308.0]], (\"ocr = PaddleocR(use_angle_cls=True, lang='en') # need to run only once to download and load mc\", 0.9908427000045776)]\n",
      "[[[50.0, 312.0], [420.0, 313.0], [420.0, 330.0], [50.0, 329.0]], (\"img_path = 'PaddleocR/doc/imgs_en/img_12.jpg'.\", 0.963976263999939)]\n",
      "[[[52.0, 336.0], [347.0, 336.0], [347.0, 350.0], [52.0, 350.0]], ('result = ocr.ocr(img_path, cls=True).', 0.9854185581207275)]\n",
      "[[[49.0, 351.0], [297.0, 355.0], [297.0, 372.0], [49.0, 368.0]], ('for idx in range(len(result)):', 0.9852021336555481)]\n",
      "[[[82.0, 373.0], [222.0, 373.0], [222.0, 390.0], [82.0, 390.0]], ('res = result[idx]', 0.9993977546691895)]\n",
      "[[[82.0, 393.0], [220.0, 394.0], [220.0, 411.0], [82.0, 410.0]], ('for line in res:.', 0.9945302605628967)]\n",
      "[[[116.0, 416.0], [204.0, 416.0], [204.0, 430.0], [116.0, 430.0]], ('print(line).', 0.9537250399589539)]\n",
      "[[[49.0, 457.0], [155.0, 457.0], [155.0, 470.0], [49.0, 470.0]], ('# draw result', 0.9713507890701294)]\n",
      "[[[49.0, 474.0], [221.0, 475.0], [221.0, 492.0], [49.0, 491.0]], ('from PIL import Image', 0.9791441559791565)]\n",
      "[[[50.0, 498.0], [196.0, 498.0], [196.0, 512.0], [50.0, 512.0]], ('result = result[o]', 0.9888993501663208)]\n",
      "[[[51.0, 518.0], [398.0, 518.0], [398.0, 532.0], [51.0, 532.0]], (\"image = Image.open(img_path).convert('RgB')\", 0.9505938291549683)]\n",
      "[[[50.0, 539.0], [343.0, 539.0], [343.0, 553.0], [50.0, 553.0]], ('boxes = [line[o] for line in result]', 0.9905730485916138)]\n",
      "[[[51.0, 559.0], [359.0, 559.0], [359.0, 573.0], [51.0, 573.0]], ('txts = [line[1][o] for line in result]', 0.9614236950874329)]\n",
      "[[[51.0, 578.0], [375.0, 578.0], [375.0, 592.0], [51.0, 592.0]], ('scores = [line[1][1] for line in result]', 0.9804984331130981)]\n",
      "[[[49.0, 599.0], [815.0, 598.0], [815.0, 614.0], [49.0, 615.0]], (\"im_show = draw_ocr(image, boxes, txts, scores, font_path='/path/to/Paddleocr/doc/fonts/simfang\", 0.9884718060493469)]\n",
      "[[[51.0, 620.0], [327.0, 620.0], [327.0, 634.0], [51.0, 634.0]], ('im_show = Image.fromarray(im_show)', 0.9937028288841248)]\n",
      "[[[49.0, 637.0], [261.0, 639.0], [261.0, 656.0], [49.0, 654.0]], (\"im_show.save('result.jpg')\", 0.9970918297767639)]\n",
      "[[[35.0, 709.0], [608.0, 709.0], [608.0, 723.0], [35.0, 723.0]], ('Output will be a list, each item contains bounding box, text and recognition confidence.', 0.986380934715271)]\n"
     ]
    }
   ],
   "source": [
    "# Paddleocr supports Chinese, English, French, German, Korean and Japanese.\n",
    "# You can set the parameter `lang` as `ch`, `en`, `fr`, `german`, `korean`, `japan`\n",
    "# to switch the language model in order.\n",
    "ocr = PaddleOCR(lang='en') # need to run only once to download and load model into memory\n",
    "img_path = 'im12.png'\n",
    "result = ocr.ocr(img_path, cls=False)\n",
    "for idx in range(len(result)):\n",
    "    res = result[idx]\n",
    "    for line in res:\n",
    "        print(line)\n"
   ]
  }
 ],
 "metadata": {
  "kernelspec": {
   "display_name": "localGPT05",
   "language": "python",
   "name": "python3"
  },
  "language_info": {
   "codemirror_mode": {
    "name": "ipython",
    "version": 3
   },
   "file_extension": ".py",
   "mimetype": "text/x-python",
   "name": "python",
   "nbconvert_exporter": "python",
   "pygments_lexer": "ipython3",
   "version": "3.10.0"
  }
 },
 "nbformat": 4,
 "nbformat_minor": 2
}
